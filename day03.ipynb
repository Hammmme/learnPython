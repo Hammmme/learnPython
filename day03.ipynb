{
 "cells": [
  {
   "cell_type": "code",
   "execution_count": 144,
   "id": "38e9c386",
   "metadata": {},
   "outputs": [
    {
     "name": "stdout",
     "output_type": "stream",
     "text": [
      "이름을 입력해주세요:이혜림\n",
      "생년을 입력해주세요:1986\n",
      "이혜림 35\n",
      "이혜림님의 나이는35세 입니다.\n"
     ]
    }
   ],
   "source": [
    "# print() format(서식)설정 \n",
    "# 파이썬 자습서 7.입력과 출력 참고내용\n",
    "\n",
    "name = input(\"이름을 입력해주세요:\")\n",
    "birthYear = int(input(\"생년을 입력해주세요:\"))\n",
    "age = 2021 - birthYear\n",
    "print(name, age)\n",
    "print(name + \"님의 나이는\" + str(age) + \"세 입니다.\")"
   ]
  },
  {
   "cell_type": "code",
   "execution_count": 7,
   "id": "1556f824",
   "metadata": {},
   "outputs": [
    {
     "name": "stdout",
     "output_type": "stream",
     "text": [
      "이혜림님의 나이는 35세 입니다\n"
     ]
    }
   ],
   "source": [
    "print(f'{name}님의 나이는 {age}세 입니다') # 위에거랑 비교했을때 좀 더 직관적임"
   ]
  },
  {
   "cell_type": "code",
   "execution_count": 10,
   "id": "dbf511cf",
   "metadata": {},
   "outputs": [
    {
     "name": "stdout",
     "output_type": "stream",
     "text": [
      "이혜림님의 나이는 00035세 입니다\n"
     ]
    }
   ],
   "source": [
    "print('{}님의 나이는 {:05d}세 입니다' .format(name, age)) #d앞의 숫자5는 다섯자리로 입력한다는 뜻, :을 꼭 찍기, :05d는 다섯자리 앞쪽은 0으로 채움"
   ]
  },
  {
   "cell_type": "code",
   "execution_count": 12,
   "id": "1aebaaa0",
   "metadata": {},
   "outputs": [
    {
     "name": "stdout",
     "output_type": "stream",
     "text": [
      "이혜림       님의 나이는 00035세 입니다\n"
     ]
    }
   ],
   "source": [
    "print('{:10}님의 나이는 {:05d}세 입니다' .format(name, age)) # :10 의 의미를 출력값으로 확인해보기"
   ]
  },
  {
   "cell_type": "code",
   "execution_count": 14,
   "id": "408f10f4",
   "metadata": {},
   "outputs": [
    {
     "name": "stdout",
     "output_type": "stream",
     "text": [
      "35님의 나이는 이혜림세 입니다\n"
     ]
    }
   ],
   "source": [
    "print('{1}님의 나이는 {0}세 입니다' .format(name, age)) # 인덱스번호 1을 줌으로 인해서 순서에 상관없이 출력시키고 싶은 값을 지정함"
   ]
  },
  {
   "cell_type": "markdown",
   "id": "7c3d678c",
   "metadata": {},
   "source": [
    "# Unit 9. 문자열"
   ]
  },
  {
   "cell_type": "code",
   "execution_count": 16,
   "id": "286c53f7",
   "metadata": {},
   "outputs": [
    {
     "name": "stdout",
     "output_type": "stream",
     "text": [
      "<class 'str'> <class 'str'>\n"
     ]
    }
   ],
   "source": [
    "# 문자열 : ' '또는 \" \" 으로 감싼 여러개의 문자 , # str\n",
    "# \"BTS\", 'python'\n",
    "print(type(\"BTS\"), type('python')) #type으로 문자열인지 확인해봄"
   ]
  },
  {
   "cell_type": "code",
   "execution_count": 19,
   "id": "f62c16af",
   "metadata": {},
   "outputs": [
    {
     "name": "stdout",
     "output_type": "stream",
     "text": [
      "BTS\n",
      "BTS\n"
     ]
    }
   ],
   "source": [
    "print('BTS')\n",
    "print(\"BTS\") #' '와 \" \" 가 상관없이 결과값이 같음"
   ]
  },
  {
   "cell_type": "code",
   "execution_count": 24,
   "id": "5738b7a9",
   "metadata": {},
   "outputs": [
    {
     "ename": "SyntaxError",
     "evalue": "invalid syntax (<ipython-input-24-33b4a3daa789>, line 2)",
     "output_type": "error",
     "traceback": [
      "\u001b[1;36m  File \u001b[1;32m\"<ipython-input-24-33b4a3daa789>\"\u001b[1;36m, line \u001b[1;32m2\u001b[0m\n\u001b[1;33m    print('My name is 'RM'.') #'RM'앞뒤로 \\를 넣어줘야 제대로 작동\u001b[0m\n\u001b[1;37m                       ^\u001b[0m\n\u001b[1;31mSyntaxError\u001b[0m\u001b[1;31m:\u001b[0m invalid syntax\n"
     ]
    }
   ],
   "source": [
    "print('My name is RM.')\n",
    "print('My name is 'RM'.') #'RM'앞뒤로 \\를 넣어줘야 'RM' 이 출력됨\n",
    "print('My name is \\'RM'\\.') "
   ]
  },
  {
   "cell_type": "code",
   "execution_count": null,
   "id": "5f29f435",
   "metadata": {},
   "outputs": [],
   "source": [
    "# 교재 외 내용의 전달(잔디에 있음)"
   ]
  },
  {
   "cell_type": "code",
   "execution_count": 26,
   "id": "ae85322c",
   "metadata": {},
   "outputs": [
    {
     "name": "stdout",
     "output_type": "stream",
     "text": [
      "\n",
      "Welcome to Python 3.8's help utility!\n",
      "\n",
      "If this is your first time using Python, you should definitely check out\n",
      "the tutorial on the Internet at https://docs.python.org/3.8/tutorial/.\n",
      "\n",
      "Enter the name of any module, keyword, or topic to get help on writing\n",
      "Python programs and using Python modules.  To quit this help utility and\n",
      "return to the interpreter, just type \"quit\".\n",
      "\n",
      "To get a list of available modules, keywords, symbols, or topics, type\n",
      "\"modules\", \"keywords\", \"symbols\", or \"topics\".  Each module also comes\n",
      "with a one-line summary of what it does; to list the modules whose name\n",
      "or summary contain a given string such as \"spam\", type \"modules spam\".\n",
      "\n",
      "help> \n",
      "\n",
      "You are now leaving help and returning to the Python interpreter.\n",
      "If you want to ask for help on a particular object directly from the\n",
      "interpreter, you can type \"help(object)\".  Executing \"help('string')\"\n",
      "has the same effect as typing a particular string at the help> prompt.\n"
     ]
    }
   ],
   "source": [
    "help() # 도움말 실행 # 빠져나올땐 quit(두번째 단락에 있음), 검색창에 엔터만 쳐도 됨"
   ]
  },
  {
   "cell_type": "code",
   "execution_count": 29,
   "id": "c3f81668",
   "metadata": {},
   "outputs": [
    {
     "name": "stdout",
     "output_type": "stream",
     "text": [
      "See https://www.python.org/psf/license/\n"
     ]
    }
   ],
   "source": [
    "license()"
   ]
  },
  {
   "cell_type": "code",
   "execution_count": 46,
   "id": "6f899b7a",
   "metadata": {},
   "outputs": [
    {
     "name": "stdout",
     "output_type": "stream",
     "text": [
      "['False', 'None', 'True', 'and', 'as', 'assert', 'async', 'await', 'break', 'class', 'continue', 'def', 'del', 'elif', 'else', 'except', 'finally', 'for', 'from', 'global', 'if', 'import', 'in', 'is', 'lambda', 'nonlocal', 'not', 'or', 'pass', 'raise', 'return', 'try', 'while', 'with', 'yield']\n"
     ]
    }
   ],
   "source": [
    "import keyword as kwd    #변수에 사용할 수 없는 예약어\n",
    "print(kwd.kwlist)"
   ]
  },
  {
   "cell_type": "markdown",
   "id": "e4a9180d",
   "metadata": {},
   "source": [
    "# Unit 10. 리스트와 튜플 사용하기"
   ]
  },
  {
   "cell_type": "code",
   "execution_count": 49,
   "id": "b7a9bb91",
   "metadata": {},
   "outputs": [
    {
     "name": "stdout",
     "output_type": "stream",
     "text": [
      "<class 'list'>\n",
      "[10, 20, 30]\n"
     ]
    }
   ],
   "source": [
    "# 리스트 : 목록, 데이터 여러개를 늘어놓다, 나열하다...\n",
    "# C, C++, Java와 같은 언어에서는 배열이라고 하기도 함 (array)\n",
    "\n",
    "# 리스트 생성하기 (아래 두 가지 방법)\n",
    "# 리스트변수 = [값 나열......]\n",
    "# 리스트변수 = list()\n",
    "\n",
    "lst1 = [10, 20, 30]\n",
    "print(type(lst1)) #리스트임을 확인\n",
    "print(lst1) #10,20,30 각트를 연속적으로 포함하는게 리스트"
   ]
  },
  {
   "cell_type": "code",
   "execution_count": 51,
   "id": "9e64d363",
   "metadata": {},
   "outputs": [
    {
     "name": "stdout",
     "output_type": "stream",
     "text": [
      "<class 'list'>\n",
      "[1, 2, 3, 'BTS', True, 10, 30]\n"
     ]
    }
   ],
   "source": [
    "lst2 = [1,2,3,'BTS', True, 10, 30] # 대괄호 사용하여 각트를 여러개 나열하여 입력\n",
    "print(type(lst2))\n",
    "print(lst2)"
   ]
  },
  {
   "cell_type": "code",
   "execution_count": 53,
   "id": "24ce4ef8",
   "metadata": {},
   "outputs": [
    {
     "name": "stdout",
     "output_type": "stream",
     "text": [
      "<class 'list'>\n",
      "[]\n"
     ]
    }
   ],
   "source": [
    "lst3 = list()\n",
    "print(type(lst3))\n",
    "print(lst3) #lst3은 리스트임을 알려줌"
   ]
  },
  {
   "cell_type": "code",
   "execution_count": 57,
   "id": "ff5f87cd",
   "metadata": {},
   "outputs": [
    {
     "data": {
      "text/plain": [
       "range(0, 5)"
      ]
     },
     "execution_count": 57,
     "metadata": {},
     "output_type": "execute_result"
    }
   ],
   "source": [
    "range(5) #5개의 숫자를 만들어 출력하라:0,1,2,3,4 0부터의 개수"
   ]
  },
  {
   "cell_type": "code",
   "execution_count": 59,
   "id": "09651433",
   "metadata": {},
   "outputs": [
    {
     "name": "stdout",
     "output_type": "stream",
     "text": [
      "[5, 6, 7, 8, 9]\n"
     ]
    }
   ],
   "source": [
    "print(list(range(5, 10))) #5를 포함해서 9까지 (5이상, 10미만)"
   ]
  },
  {
   "cell_type": "code",
   "execution_count": 61,
   "id": "abf7c864",
   "metadata": {},
   "outputs": [
    {
     "name": "stdout",
     "output_type": "stream",
     "text": [
      "[5, 7, 9]\n"
     ]
    }
   ],
   "source": [
    "print(list(range(5, 10, 2))) #2(칸)씩 뛰어넘음"
   ]
  },
  {
   "cell_type": "code",
   "execution_count": 66,
   "id": "2aaa1367",
   "metadata": {},
   "outputs": [
    {
     "name": "stdout",
     "output_type": "stream",
     "text": [
      "[1, 2, 3, 4, 5, 6, 7, 8, 9, 10, 11, 12, 13, 14, 15, 16, 17, 18, 19, 20, 21, 22, 23, 24, 25, 26, 27, 28, 29, 30, 31, 32, 33, 34, 35, 36, 37, 38, 39, 40, 41, 42, 43, 44, 45, 46, 47, 48, 49, 50, 51, 52, 53, 54, 55, 56, 57, 58, 59, 60, 61, 62, 63, 64, 65, 66, 67, 68, 69, 70, 71, 72, 73, 74, 75, 76, 77, 78, 79, 80, 81, 82, 83, 84, 85, 86, 87, 88, 89, 90, 91, 92, 93, 94, 95, 96, 97, 98, 99, 100]\n"
     ]
    }
   ],
   "source": [
    "lst4 = list(range(1, 101)) #설정할때 101미만으로 해야 100까지 출력됨\n",
    "print(lst4)"
   ]
  },
  {
   "cell_type": "code",
   "execution_count": 69,
   "id": "26f28015",
   "metadata": {},
   "outputs": [
    {
     "name": "stdout",
     "output_type": "stream",
     "text": [
      "<class 'tuple'>\n",
      "(1, 2, 3)\n",
      "<class 'tuple'>\n",
      "(4, 5, 6)\n"
     ]
    }
   ],
   "source": [
    "# 튜플사용하기\n",
    "# 리스트와 비슷하지만, 튜플은 (둥근괄호) 를 사용함\n",
    "# 리스트는 추가 삽입 삭제 수정 등이 자유롭지만, 튜플은 그렇지 못함\n",
    "\n",
    "tpl1 = (1,2,3)\n",
    "a = 4,5,6\n",
    "tpl2 = tuple(a)\n",
    "print(type(tpl1))\n",
    "print(tpl1)\n",
    "print(type(tpl2))\n",
    "print(tpl2)"
   ]
  },
  {
   "cell_type": "code",
   "execution_count": 131,
   "id": "b52c4df1",
   "metadata": {},
   "outputs": [],
   "source": [
    "#lst1.tab키 누름\n",
    "# 함수의 의미는 shift + tab 함께 눌러서 확인\n",
    "# 파이썬자습서 5. 자료구조 참고 (다 나와있음...)"
   ]
  },
  {
   "cell_type": "code",
   "execution_count": 96,
   "id": "95f190c1",
   "metadata": {},
   "outputs": [
    {
     "name": "stdout",
     "output_type": "stream",
     "text": [
      "[1, 2, 3, 5]\n",
      "[1, 2, 3, 5, 6]\n"
     ]
    }
   ],
   "source": [
    "lst1 = [1,2,3,5]\n",
    "print(lst1)\n",
    "lst1.append(6) #리스트 끝에 새로운값 6을 집어넣음\n",
    "print(lst1)"
   ]
  },
  {
   "cell_type": "code",
   "execution_count": 97,
   "id": "e22d3d8e",
   "metadata": {},
   "outputs": [
    {
     "name": "stdout",
     "output_type": "stream",
     "text": [
      "[1, 2, 3, 4, 5, 6]\n"
     ]
    }
   ],
   "source": [
    "lst1.insert(3, 4) #index 3위치에 값 4를 insert\n",
    "print(lst1)"
   ]
  },
  {
   "cell_type": "code",
   "execution_count": 98,
   "id": "c34be683",
   "metadata": {},
   "outputs": [
    {
     "name": "stdout",
     "output_type": "stream",
     "text": [
      "[1, 2, 3, 4, 5]\n",
      "6\n"
     ]
    }
   ],
   "source": [
    "temp=lst1.pop() #pop \n",
    "print(temp)"
   ]
  },
  {
   "cell_type": "code",
   "execution_count": 99,
   "id": "a265a25c",
   "metadata": {},
   "outputs": [
    {
     "name": "stdout",
     "output_type": "stream",
     "text": [
      "[1, 2, 4, 5]\n"
     ]
    }
   ],
   "source": [
    "lst1.remove(3) # 3값을 찾아서 제거, pop과의 차이 잘 알아두기\n",
    "print(lst1)"
   ]
  },
  {
   "cell_type": "code",
   "execution_count": 101,
   "id": "5513dfa9",
   "metadata": {},
   "outputs": [
    {
     "data": {
      "text/plain": [
       "2"
      ]
     },
     "execution_count": 101,
     "metadata": {},
     "output_type": "execute_result"
    }
   ],
   "source": [
    "lst1.index(4) "
   ]
  },
  {
   "cell_type": "code",
   "execution_count": 104,
   "id": "1187b409",
   "metadata": {},
   "outputs": [
    {
     "name": "stdout",
     "output_type": "stream",
     "text": [
      "[1, 2, 3, 4, 5]\n",
      "[5, 4, 3, 2, 1]\n"
     ]
    }
   ],
   "source": [
    "lst2 = [1,2,3,4,5]\n",
    "print(lst2)\n",
    "lst2.reverse() # reverse 사용시 역순으로\n",
    "print(lst2)"
   ]
  },
  {
   "cell_type": "code",
   "execution_count": 111,
   "id": "17727775",
   "metadata": {},
   "outputs": [
    {
     "name": "stdout",
     "output_type": "stream",
     "text": [
      "[2, 4, 1, 5, 6, 7, 3]\n",
      "[1, 2, 3, 4, 5, 6, 7]\n"
     ]
    }
   ],
   "source": [
    "lst3 = [2,4,1,5,6,7,3]\n",
    "print(lst3)\n",
    "lst3.sort() #sort 실행시 순서대로 정렬\n",
    "print(lst3)"
   ]
  },
  {
   "cell_type": "code",
   "execution_count": 112,
   "id": "1c8a8212",
   "metadata": {},
   "outputs": [
    {
     "name": "stdout",
     "output_type": "stream",
     "text": [
      "['김남준', '김석진', '김태형', '민윤기', '박지민', '전정국', '정호석']\n"
     ]
    }
   ],
   "source": [
    "lst4 = ['김남준', '김석진', '민윤기', '정호석', '박지민', '김태형', '전정국']\n",
    "lst4.sort()\n",
    "print(lst4)"
   ]
  },
  {
   "cell_type": "code",
   "execution_count": 114,
   "id": "05d0f8d9",
   "metadata": {},
   "outputs": [
    {
     "name": "stdout",
     "output_type": "stream",
     "text": [
      "[1, 2, 3, 4, 5, 6, 7, '김남준', '김석진', '김태형', '민윤기', '박지민', '전정국', '정호석', '김남준', '김석진', '김태형', '민윤기', '박지민', '전정국', '정호석']\n"
     ]
    }
   ],
   "source": [
    "lst3.extend(lst4) #extend의 역할\n",
    "print(lst3)"
   ]
  },
  {
   "cell_type": "code",
   "execution_count": 116,
   "id": "5405384f",
   "metadata": {},
   "outputs": [
    {
     "name": "stdout",
     "output_type": "stream",
     "text": [
      "6\n"
     ]
    }
   ],
   "source": [
    "print(lst3[5])"
   ]
  },
  {
   "cell_type": "code",
   "execution_count": 120,
   "id": "32022412",
   "metadata": {},
   "outputs": [
    {
     "name": "stdout",
     "output_type": "stream",
     "text": [
      "[1, 2, 3, 4, 5, 999, 7, '김남준', '김석진', '김태형', '민윤기', '박지민', '전정국', '정호석', '김남준', '김석진', '김태형', '민윤기', '박지민', '전정국', '정호석']\n"
     ]
    }
   ],
   "source": [
    "lst3[5] = 999  # []번째 값을 999로 바꿈\n",
    "print(lst3) "
   ]
  },
  {
   "cell_type": "code",
   "execution_count": 122,
   "id": "247f1f19",
   "metadata": {},
   "outputs": [
    {
     "name": "stdout",
     "output_type": "stream",
     "text": [
      "[7, '김남준', '김석진', '김태형', '민윤기']\n"
     ]
    }
   ],
   "source": [
    "print(lst3[6:11]) #6부터 11까지 / range할때처럼 뒤의 수는 ~미만으로 침./ :사용/ 특정부분만 잘라서 가지고 옴 (=slicing)"
   ]
  },
  {
   "cell_type": "code",
   "execution_count": 125,
   "id": "1299a78f",
   "metadata": {},
   "outputs": [],
   "source": [
    "#tuple 실습"
   ]
  },
  {
   "cell_type": "code",
   "execution_count": 141,
   "id": "01004f5a",
   "metadata": {},
   "outputs": [
    {
     "name": "stdout",
     "output_type": "stream",
     "text": [
      "1\n",
      "1\n"
     ]
    }
   ],
   "source": [
    "tpl1 = (1,2,3)\n",
    "# tpl1 + . + tab을 누르면 두 메뉴가 나옴\n",
    "print(tpl1.count(2))\n",
    "print(tpl1.index(2))"
   ]
  },
  {
   "cell_type": "code",
   "execution_count": 142,
   "id": "f130442a",
   "metadata": {},
   "outputs": [
    {
     "name": "stdout",
     "output_type": "stream",
     "text": [
      "<class 'list'>\n",
      "[1, 2, 3]\n"
     ]
    }
   ],
   "source": [
    "# tpl1[1] = 22 로 하면 바로 변경이 안됨\n",
    "# 리스트와 달리 추가 삭제 수정 등이 어려우므로 에러가 뜸\n",
    "# 튜플값을 수정, 삭제하려면 *튜플을 리스트로 변경시켜서 편집하고 다시 리스트를 튜플로 변경*\n",
    "\n",
    "tpl1 = list(tpl1)\n",
    "print(type(tpl1))\n",
    "print(tpl1) # tuple을 리스트로 변환"
   ]
  },
  {
   "cell_type": "code",
   "execution_count": 143,
   "id": "b77205e9",
   "metadata": {},
   "outputs": [
    {
     "name": "stdout",
     "output_type": "stream",
     "text": [
      "(1, 22, 3, 4)\n"
     ]
    }
   ],
   "source": [
    "tpl1.append(4)\n",
    "tpl1[1] = 22\n",
    "tpl1 = tuple(tpl1) #리스트로 변환한걸 다시 튜플로변환\n",
    "print(tpl1)"
   ]
  },
  {
   "cell_type": "markdown",
   "id": "e11fcd33",
   "metadata": {},
   "source": [
    "# Unit 11. 시퀀스자료형 활용하기"
   ]
  },
  {
   "cell_type": "code",
   "execution_count": 147,
   "id": "4f95671b",
   "metadata": {},
   "outputs": [
    {
     "name": "stdout",
     "output_type": "stream",
     "text": [
      "False\n"
     ]
    }
   ],
   "source": [
    "a = [0,10,5,9,7,15,87,33]\n",
    "#특정값이 있는지 확인 : 값 in 시퀀스객체\n",
    "99 in a #실행해보면 a 라는 곳에 99가 있는지 확인가능 (결과는 False)\n",
    "7 in a #결과는 True\n",
    "print(7 not in a) # 7이 a에 없다는 것에 대한 판단(참/거짓)결과값"
   ]
  },
  {
   "cell_type": "code",
   "execution_count": 149,
   "id": "165e0a94",
   "metadata": {},
   "outputs": [
    {
     "name": "stdout",
     "output_type": "stream",
     "text": [
      "[1, 3, 5, 2, 4, 6]\n"
     ]
    }
   ],
   "source": [
    "a = [1, 3, 5]\n",
    "b = [2, 4, 6]\n",
    "c = a + b #concatinate (결합의 의미-새로운 것으로 만드는.../ add와의 의미와는 다름*)\n",
    "print(c)"
   ]
  },
  {
   "cell_type": "code",
   "execution_count": 151,
   "id": "b0506017",
   "metadata": {},
   "outputs": [
    {
     "data": {
      "text/plain": [
       "[1, 3, 5, 1, 3, 5, 1, 3, 5]"
      ]
     },
     "execution_count": 151,
     "metadata": {},
     "output_type": "execute_result"
    }
   ],
   "source": [
    "a * 3 # a라는 시퀀스 객체를 '3'times *반복함* / 각각의 객체에 3을 곱하는게 아님 주의"
   ]
  },
  {
   "cell_type": "code",
   "execution_count": 153,
   "id": "edc70c10",
   "metadata": {},
   "outputs": [
    {
     "data": {
      "text/plain": [
       "3"
      ]
     },
     "execution_count": 153,
     "metadata": {},
     "output_type": "execute_result"
    }
   ],
   "source": [
    "len(a) #length는 길이 (개수...) - a라는 시퀀스의 길이(?) 랭스를 구해서 아레 범위정할때 쓸수있음"
   ]
  },
  {
   "cell_type": "code",
   "execution_count": 160,
   "id": "4a623e9e",
   "metadata": {},
   "outputs": [
    {
     "name": "stdout",
     "output_type": "stream",
     "text": [
      "[0, 1, 2, 3, 4, 5, 6, 7, 8, 9, 10, 11, 12, 13, 14, 15, 16, 17, 18, 19, 20, 21, 22, 23, 24, 25, 26, 27, 28, 29, 30, 31, 32, 33, 34, 35, 36, 37, 38, 39, 40, 41, 42, 43, 44, 45, 46, 47, 48, 49, 50, 51, 52, 53, 54, 55, 56, 57, 58, 59, 60, 61, 62, 63, 64, 65, 66, 67, 68, 69, 70, 71, 72, 73, 74, 75, 76, 77, 78, 79, 80, 81, 82, 83, 84, 85, 86, 87, 88, 89, 90, 91, 92, 93, 94, 95, 96, 97, 98]\n",
      "98\n",
      "[76, 77, 78, 79, 80, 81, 82, 83]\n"
     ]
    }
   ],
   "source": [
    "a = list(range(99))\n",
    "print(a) #[]안의 값\n",
    "print(a[-1]) # 제일 끝에서 1번째 / 맨밑에 결과나옴\n",
    "print(a[-23:-15]) # 뒤에서 23번째에서 15번째까지\n",
    "#print(a[1000]) 를 할 경우 list index out of range 라고 에러가 뜸 (1000번째 숫자는 없음 : index범위 벗어남)"
   ]
  },
  {
   "cell_type": "code",
   "execution_count": 162,
   "id": "ea4b72a3",
   "metadata": {},
   "outputs": [
    {
     "name": "stdout",
     "output_type": "stream",
     "text": [
      "97\n"
     ]
    }
   ],
   "source": [
    "del a[-1] #del은 지우는것 (a에서 뒤에서 첫번째꺼 지움)\n",
    "print(a[-1]) "
   ]
  },
  {
   "cell_type": "code",
   "execution_count": 164,
   "id": "28224511",
   "metadata": {},
   "outputs": [
    {
     "ename": "NameError",
     "evalue": "name 'a' is not defined",
     "output_type": "error",
     "traceback": [
      "\u001b[1;31m---------------------------------------------------------------------------\u001b[0m",
      "\u001b[1;31mNameError\u001b[0m                                 Traceback (most recent call last)",
      "\u001b[1;32m<ipython-input-164-c342333e421e>\u001b[0m in \u001b[0;36m<module>\u001b[1;34m\u001b[0m\n\u001b[1;32m----> 1\u001b[1;33m \u001b[1;32mdel\u001b[0m \u001b[0ma\u001b[0m\u001b[1;33m\u001b[0m\u001b[1;33m\u001b[0m\u001b[0m\n\u001b[0m\u001b[0;32m      2\u001b[0m \u001b[0mprint\u001b[0m\u001b[1;33m(\u001b[0m\u001b[0ma\u001b[0m\u001b[1;33m)\u001b[0m\u001b[1;33m\u001b[0m\u001b[1;33m\u001b[0m\u001b[0m\n",
      "\u001b[1;31mNameError\u001b[0m: name 'a' is not defined"
     ]
    }
   ],
   "source": [
    "del a\n",
    "print(a)"
   ]
  },
  {
   "cell_type": "markdown",
   "id": "18f9a52f",
   "metadata": {},
   "source": [
    "# Unit 12. 딕셔너리 사용하기"
   ]
  },
  {
   "cell_type": "code",
   "execution_count": 168,
   "id": "de539275",
   "metadata": {},
   "outputs": [
    {
     "name": "stdout",
     "output_type": "stream",
     "text": [
      "{'국어': 100, '영어': 95, '수학': 98}\n",
      "<class 'dict'>\n",
      "100\n"
     ]
    }
   ],
   "source": [
    "#딕셔너리\n",
    "#딕셔너리 변수 = 키에 의미부여하고 그 값을 찾아가는것.. \n",
    "#              = {키1:값1, 키2:값2, ...}\n",
    "#              = dict()\n",
    "a = {\"국어\":100, \"영어\":95, \"수학\":98} #이게 가장 일반적. :대신에 = 써도 됨\n",
    "print(a)\n",
    "print(type(a)) \n",
    "print(a[\"국어\"])"
   ]
  },
  {
   "cell_type": "code",
   "execution_count": 170,
   "id": "5dd3d161",
   "metadata": {},
   "outputs": [
    {
     "data": {
      "text/plain": [
       "dict_keys(['국어', '영어', '수학'])"
      ]
     },
     "execution_count": 170,
     "metadata": {},
     "output_type": "execute_result"
    }
   ],
   "source": [
    "# a + . +tab키 = 사용할 수 있는것들 나옴,,, \n",
    "a.keys()"
   ]
  },
  {
   "cell_type": "code",
   "execution_count": 172,
   "id": "0e8e2f3a",
   "metadata": {},
   "outputs": [
    {
     "data": {
      "text/plain": [
       "dict_values([100, 95, 98])"
      ]
     },
     "execution_count": 172,
     "metadata": {},
     "output_type": "execute_result"
    }
   ],
   "source": [
    "a.values()"
   ]
  },
  {
   "cell_type": "code",
   "execution_count": 175,
   "id": "095a9362",
   "metadata": {},
   "outputs": [
    {
     "data": {
      "text/plain": [
       "95"
      ]
     },
     "execution_count": 175,
     "metadata": {},
     "output_type": "execute_result"
    }
   ],
   "source": [
    "a.get(\"영어\")"
   ]
  }
 ],
 "metadata": {
  "kernelspec": {
   "display_name": "Python 3",
   "language": "python",
   "name": "python3"
  },
  "language_info": {
   "codemirror_mode": {
    "name": "ipython",
    "version": 3
   },
   "file_extension": ".py",
   "mimetype": "text/x-python",
   "name": "python",
   "nbconvert_exporter": "python",
   "pygments_lexer": "ipython3",
   "version": "3.8.8"
  }
 },
 "nbformat": 4,
 "nbformat_minor": 5
}
