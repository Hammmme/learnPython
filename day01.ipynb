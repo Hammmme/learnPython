{
 "cells": [
  {
   "cell_type": "code",
   "execution_count": 5,
   "id": "fa7ad049",
   "metadata": {},
   "outputs": [
    {
     "name": "stdout",
     "output_type": "stream",
     "text": [
      "안녕, 파이썬.\n",
      "만나서 반가워\n"
     ]
    }
   ],
   "source": [
    "# print()는 문자열을 화면에 출력한다.\n",
    "# 주석 : 프로그램의 실행과 상관없이 \n",
    "# 설명문을 작성할 수 있다.\n",
    "print(\"안녕, 파이썬.\")\n",
    "print('만나서 반가워')\n",
    "# 셀에 파이썬 명령어를 입력, 편집후\n",
    "# 셀 실행방법 1. Ctrl + Enter : 실행만 (Just Run cell)\n",
    "# 셀 실행방법 2. Shift + Enter : \n",
    "#              아래(아래에 셀이 없으면 생성) 로 이동\n",
    "# 셀 실행방법 3. Alt + Enter : \n",
    "#              아래 셀에 상관없이 새로운 셀을 만들고 아래로 이동"
   ]
  },
  {
   "cell_type": "code",
   "execution_count": null,
   "id": "02e25952",
   "metadata": {},
   "outputs": [],
   "source": [
    "# 불필요한 셀 삭제 : Esc(파랑색 셀 명령모드에서) + dd\n",
    "# 실행과 상관없이 셀 추가 \n",
    "# 위에 추가시 Esc + a(above)\n",
    "# 아래 추가시 Esc + b(below)"
   ]
  }
 ],
 "metadata": {
  "kernelspec": {
   "display_name": "Python 3",
   "language": "python",
   "name": "python3"
  },
  "language_info": {
   "codemirror_mode": {
    "name": "ipython",
    "version": 3
   },
   "file_extension": ".py",
   "mimetype": "text/x-python",
   "name": "python",
   "nbconvert_exporter": "python",
   "pygments_lexer": "ipython3",
   "version": "3.8.8"
  }
 },
 "nbformat": 4,
 "nbformat_minor": 5
}
