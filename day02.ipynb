{
 "cells": [
  {
   "cell_type": "markdown",
   "id": "05545826",
   "metadata": {},
   "source": [
    "# Heading 1\n",
    "## Heading 2\n",
    "###### Heading 6"
   ]
  },
  {
   "cell_type": "code",
   "execution_count": 1,
   "id": "a5c37b2b",
   "metadata": {},
   "outputs": [],
   "source": [
    "# Markdown : Esc + m\n",
    "# Code : Esc + y"
   ]
  },
  {
   "cell_type": "markdown",
   "id": "de638c28",
   "metadata": {},
   "source": [
    "# Unit 4. 기본 문법 알아보기 \n",
    "## 4.1 세미콜론\n",
    "파이썬은 구문이 끝날 때 세미콜론을 붙이지 않는다.  \n",
    "보통 한 줄에 여러 문장을 사용할 때 세미콜론으로 구분."
   ]
  },
  {
   "cell_type": "code",
   "execution_count": 4,
   "id": "699e36c4",
   "metadata": {},
   "outputs": [
    {
     "name": "stdout",
     "output_type": "stream",
     "text": [
      "python\n",
      "hello\n",
      "funny learn python\n"
     ]
    }
   ],
   "source": [
    "print('python'); print('hello'); print('funny learn python')"
   ]
  },
  {
   "cell_type": "markdown",
   "id": "f854d096",
   "metadata": {},
   "source": [
    "## 4.2 주석\n",
    "### 4.2.1 한 줄 주석\n",
    "한 줄 주석은 # 하나로 적어준다.  위치는 어디든 상관없음 # 기호 이후의 부분은 설명문으로 간주."
   ]
  },
  {
   "cell_type": "code",
   "execution_count": 5,
   "id": "cc8471cc",
   "metadata": {},
   "outputs": [],
   "source": [
    "# print('Hello Python')"
   ]
  },
  {
   "cell_type": "code",
   "execution_count": 7,
   "id": "37515cca",
   "metadata": {},
   "outputs": [
    {
     "name": "stdout",
     "output_type": "stream",
     "text": [
      "Hello Python\n"
     ]
    }
   ],
   "source": [
    "print('Hello Python') # 이문장은 화면에 출력이 됨"
   ]
  },
  {
   "cell_type": "markdown",
   "id": "46f6e844",
   "metadata": {},
   "source": [
    "### 4.2.2 블록주석\n",
    "각 줄마다 #을 넣어줌"
   ]
  },
  {
   "cell_type": "code",
   "execution_count": 8,
   "id": "ab4dbfc8",
   "metadata": {},
   "outputs": [],
   "source": [
    "#print('Hello Python')\n",
    "#print('1234567890')"
   ]
  },
  {
   "cell_type": "markdown",
   "id": "e01d7c11",
   "metadata": {},
   "source": [
    "### 4.2.3 Multiline comment\n",
    "여러라인에 걸쳐 주석 또는 설명을 적고자 할 때는 큰따옴표 세개를 연속해서 \"\"\"사용."
   ]
  },
  {
   "cell_type": "code",
   "execution_count": 9,
   "id": "20b4bc14",
   "metadata": {},
   "outputs": [
    {
     "name": "stdout",
     "output_type": "stream",
     "text": [
      "Hello Hammmme\n"
     ]
    },
    {
     "data": {
      "text/plain": [
       "'\\n여러라인에 걸친 주석\\n보통 세줄 이상의 텍스트형태로\\n많은 설명을 적어야 할 때 사용\\n아.....ㅜㅜ\\n'"
      ]
     },
     "execution_count": 9,
     "metadata": {},
     "output_type": "execute_result"
    }
   ],
   "source": [
    "print('Hello Hammmme')\n",
    "\n",
    "\"\"\"\n",
    "여러라인에 걸친 주석\n",
    "보통 세줄 이상의 텍스트형태로\n",
    "많은 설명을 적어야 할 때 사용\n",
    "아.....ㅜㅜ\n",
    "\"\"\""
   ]
  },
  {
   "cell_type": "markdown",
   "id": "5d5b1f4c",
   "metadata": {},
   "source": [
    "## 4.3 들여쓰기\n",
    "indentation 코드를 읽기 쉽도록 일정한 간격을 띄어서 작성하는 방법  \n",
    "if a > b :  \n",
    "   print(\"a는 b보다 크다\")  \n",
    "else :   \n",
    "   print('a는 b보다 작다')    \n",
    "   \n",
    "C, C++, Java와 같은 언어에서 들여쓰기는 단지 권고사항일 뿐이지만, **python**에서는 들여쓰기가 **반드시 지켜야 하는 문법사항**임.   \n",
    "\n",
    "마크다운 기본팁1 +) 한 줄짜리 문장을 두 줄짜리로 만드려면 문장끝에 띄어쓰기를 두번 해놓음  \n",
    "마크다운 기본팁2 +) 강조(글씨 진하게) 하려면 문장 시작과 끝에 ** (양끝 두개씩) 를 달아준다."
   ]
  },
  {
   "cell_type": "markdown",
   "id": "2ea0c151",
   "metadata": {},
   "source": [
    "## 4.4 코드블록\n",
    "특정한 동작을 위해서 코드가 모여 있는 상태를 뜻하며, 파이썬은 들여쓰기를 기준으로 코드 블록을 구성한다.  \n",
    "**단, 같은 블록은 들여쓰기 칸 수가 같아야 하고, 공백과 탭 문자를 섞어 쓰면 안됨**\n"
   ]
  },
  {
   "cell_type": "markdown",
   "id": "9b68ece4",
   "metadata": {},
   "source": [
    "------------------------------------------------------"
   ]
  },
  {
   "cell_type": "markdown",
   "id": "464f556b",
   "metadata": {},
   "source": [
    "# Unit 5. 숫자 계산하기"
   ]
  },
  {
   "cell_type": "code",
   "execution_count": 11,
   "id": "c961f464",
   "metadata": {},
   "outputs": [],
   "source": [
    "numberA = 10      # 정수형 데이터 10을 numberA에 대입연산자 = 를 이용하여 할당(assign)하였음\n",
    "numberB = 3.141592\n",
    "numberC = 5 + 4j # 복소수\n",
    "strA = 'A'\n",
    "strB = \"KOREA\"\n",
    "boolA = True # boolean type : True , False 두가지 정보만 표현할 수 있는 데이터 타입, 대소문자 구분함\n",
    "boolB = False "
   ]
  },
  {
   "cell_type": "code",
   "execution_count": 13,
   "id": "14562d4b",
   "metadata": {},
   "outputs": [
    {
     "ename": "NameError",
     "evalue": "name 'true' is not defined",
     "output_type": "error",
     "traceback": [
      "\u001b[1;31m---------------------------------------------------------------------------\u001b[0m",
      "\u001b[1;31mNameError\u001b[0m                                 Traceback (most recent call last)",
      "\u001b[1;32m<ipython-input-13-3dc86572d48d>\u001b[0m in \u001b[0;36m<module>\u001b[1;34m\u001b[0m\n\u001b[1;32m----> 1\u001b[1;33m \u001b[0mboolC\u001b[0m \u001b[1;33m=\u001b[0m \u001b[0mtrue\u001b[0m\u001b[1;33m\u001b[0m\u001b[1;33m\u001b[0m\u001b[0m\n\u001b[0m",
      "\u001b[1;31mNameError\u001b[0m: name 'true' is not defined"
     ]
    }
   ],
   "source": [
    "boolC = true # 오류화면이 뜰때 뭐가 잘못되었는지 확인 겸 실슴"
   ]
  },
  {
   "cell_type": "code",
   "execution_count": 14,
   "id": "c474a3b0",
   "metadata": {},
   "outputs": [
    {
     "name": "stdout",
     "output_type": "stream",
     "text": [
      "<class 'int'>\n",
      "<class 'float'>\n",
      "<class 'complex'>\n",
      "<class 'str'>\n",
      "<class 'str'>\n",
      "<class 'bool'>\n",
      "<class 'bool'>\n"
     ]
    }
   ],
   "source": [
    "print(type(numberA)) #type은 데이터의 타입을 표현\n",
    "print(type(numberB))\n",
    "print(type(numberC))\n",
    "print(type(strA))\n",
    "print(type(strB))\n",
    "print(type(boolA))\n",
    "print(type(boolB))"
   ]
  },
  {
   "cell_type": "code",
   "execution_count": 18,
   "id": "4fbf810d",
   "metadata": {},
   "outputs": [
    {
     "data": {
      "text/plain": [
       "str"
      ]
     },
     "execution_count": 18,
     "metadata": {},
     "output_type": "execute_result"
    }
   ],
   "source": [
    "type(\"100.1234 + 3j\")"
   ]
  },
  {
   "cell_type": "code",
   "execution_count": 20,
   "id": "32fdca42",
   "metadata": {},
   "outputs": [
    {
     "data": {
      "text/plain": [
       "2"
      ]
     },
     "execution_count": 20,
     "metadata": {},
     "output_type": "execute_result"
    }
   ],
   "source": [
    "1+1"
   ]
  },
  {
   "cell_type": "code",
   "execution_count": 23,
   "id": "d499312a",
   "metadata": {},
   "outputs": [
    {
     "name": "stdout",
     "output_type": "stream",
     "text": [
      "1.6666666666666667\n",
      "1\n",
      "2\n",
      "125\n"
     ]
    }
   ],
   "source": [
    "# 파이썬에서 산술연산자 Arithmetic Operator\n",
    "# +,-,*,/,//(몫),%(나머지),**(거듭제곱)\n",
    "print(5 / 3) # 5를 3으로 나눈 결과\n",
    "print(5 // 3) # 5를 3으로 나눈 몺\n",
    "print(5 % 3)  # 5를 3으로 나눌때 나머지 \n",
    "print(5 ** 3) # 5의 3제곱\n",
    "# operator 사이의 숫자끼리는 앞뒤로 공백을 해주는게 좋다."
   ]
  },
  {
   "cell_type": "code",
   "execution_count": 27,
   "id": "10324720",
   "metadata": {},
   "outputs": [
    {
     "name": "stdout",
     "output_type": "stream",
     "text": [
      "<class 'float'>\n",
      "<class 'int'>\n"
     ]
    }
   ],
   "source": [
    "# 형변환type conversion :  \n",
    "# 임의 데이터 (연산의 결과) 타입을 원하는 데이터 타입으로 변환\n",
    "print(type(3.14)) # 결과가 float로 나옴\n",
    "print(type(int(3.14))) # 괄호 잘 맞춰주세여엉 / 데이터타입을 꼭 일치시켜야함 (실수는 실수, 정수는 정수)"
   ]
  },
  {
   "cell_type": "code",
   "execution_count": 29,
   "id": "d3248886",
   "metadata": {},
   "outputs": [
    {
     "name": "stdout",
     "output_type": "stream",
     "text": [
      "['False', 'None', 'True', 'and', 'as', 'assert', 'async', 'await', 'break', 'class', 'continue', 'def', 'del', 'elif', 'else', 'except', 'finally', 'for', 'from', 'global', 'if', 'import', 'in', 'is', 'lambda', 'nonlocal', 'not', 'or', 'pass', 'raise', 'return', 'try', 'while', 'with', 'yield']\n"
     ]
    }
   ],
   "source": [
    "import keyword\n",
    "print(keyword.kwlist) # 변수이름으로 쓰면 안되는 것들..쯧."
   ]
  },
  {
   "cell_type": "code",
   "execution_count": 31,
   "id": "7fb01567",
   "metadata": {},
   "outputs": [],
   "source": [
    "a, b, c = 10, 20, 30"
   ]
  },
  {
   "cell_type": "code",
   "execution_count": 33,
   "id": "018425f1",
   "metadata": {},
   "outputs": [],
   "source": [
    "# 복합대입연산자\n",
    "# 산술연산자 모두 적용\n",
    "\n",
    "a = 10\n",
    "a = a + 20 # a += 20\n",
    "a *= 3 # a= a * 3\n",
    "\n",
    "# 증감연산자\n",
    "a = a + 1 # a++, a--  (앞에 적을수도 있고 뒤에 적을수도 있음 : 값은 다름)"
   ]
  },
  {
   "cell_type": "code",
   "execution_count": 35,
   "id": "e1f1ab47",
   "metadata": {},
   "outputs": [
    {
     "name": "stdout",
     "output_type": "stream",
     "text": [
      "hammmme\n",
      "1 2 3\n"
     ]
    }
   ],
   "source": [
    "# 입력함수 input()\n",
    "print('hammmme')\n",
    "print(1,2,3)"
   ]
  },
  {
   "cell_type": "code",
   "execution_count": 4,
   "id": "03d70230",
   "metadata": {},
   "outputs": [
    {
     "name": "stdout",
     "output_type": "stream",
     "text": [
      "생년을 입력하세요:1986\n",
      "1986년\n",
      "당신의 나이는35살이구먼..\n"
     ]
    }
   ],
   "source": [
    "birthYear = input('생년을 입력하세요:') # input() \n",
    "birthYear = int(birthYear)   # 바꿔주기 (형변환) / input으로 받은 데이터는 문자열이므로 형변환\n",
    "# print(type(birthYear)) #타입 알아보는것 int 냐 str\n",
    "print(str(birthYear) +'년') # 문자열 결합의 의미인 +  / print()함수에서 양쪽 모두 문자열의 결합\n",
    "age = 2021 - birthYear # 2021은 숫자와'int'와 'str'\n",
    "print (\"당신의 나이는\" + str(age) + \"살이구먼..\")"
   ]
  },
  {
   "cell_type": "code",
   "execution_count": 9,
   "id": "960ebcc7",
   "metadata": {},
   "outputs": [
    {
     "name": "stdout",
     "output_type": "stream",
     "text": [
      "2개의 숫자를 입력하세요.10,20\n",
      "10 20\n"
     ]
    }
   ],
   "source": [
    "# print(parameter list, arguments)\n",
    "a,b = input(\"2개의 숫자를 입력하세요.\").split(',') # 괄호 안의 ,로 a,b를 나눈다는뜻 / 괄호 안에 암것도 없으면 공백으로 나눔\n",
    "print(a, b)"
   ]
  },
  {
   "cell_type": "code",
   "execution_count": 11,
   "id": "69e02475",
   "metadata": {},
   "outputs": [
    {
     "name": "stdout",
     "output_type": "stream",
     "text": [
      "2개의 숫자를 입력하세요10 20\n",
      "30\n"
     ]
    }
   ],
   "source": [
    "a, b = map(int, input(\"2개의 숫자를 입력하세요\").split())\n",
    "print(a+b)"
   ]
  },
  {
   "cell_type": "code",
   "execution_count": 15,
   "id": "bca60787",
   "metadata": {},
   "outputs": [
    {
     "name": "stdout",
     "output_type": "stream",
     "text": [
      "10@ 20@ korea\n",
      "10.....20\n"
     ]
    }
   ],
   "source": [
    "print(a, b, \"korea\", sep='@ ')\n",
    "print(a, end=\".....\")\n",
    "print(b)"
   ]
  },
  {
   "cell_type": "code",
   "execution_count": 17,
   "id": "99cef539",
   "metadata": {},
   "outputs": [
    {
     "data": {
      "text/plain": [
       "True"
      ]
     },
     "execution_count": 17,
     "metadata": {},
     "output_type": "execute_result"
    }
   ],
   "source": [
    "# 관계연산자 : >,<,>=,<=,==,!=\n",
    "10 > 5"
   ]
  },
  {
   "cell_type": "code",
   "execution_count": null,
   "id": "26ddd5cb",
   "metadata": {},
   "outputs": [],
   "source": [
    "if age>= 20 : "
   ]
  }
 ],
 "metadata": {
  "kernelspec": {
   "display_name": "Python 3",
   "language": "python",
   "name": "python3"
  },
  "language_info": {
   "codemirror_mode": {
    "name": "ipython",
    "version": 3
   },
   "file_extension": ".py",
   "mimetype": "text/x-python",
   "name": "python",
   "nbconvert_exporter": "python",
   "pygments_lexer": "ipython3",
   "version": "3.8.8"
  }
 },
 "nbformat": 4,
 "nbformat_minor": 5
}
