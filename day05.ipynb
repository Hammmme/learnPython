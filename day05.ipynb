{
 "cells": [
  {
   "cell_type": "markdown",
   "id": "df41d1d9",
   "metadata": {},
   "source": [
    "# Unit 20. Fizzbuzz 문제\n",
    "### 1~100까지의 숫자를 출력하면서 3의 배수에는 Fizz를, 5의 배수에는 Buzz를 \n",
    "### 3과 5의 공배수에는 FizzBuzz를 출력하라."
   ]
  },
  {
   "cell_type": "code",
   "execution_count": 3,
   "id": "d584493e",
   "metadata": {},
   "outputs": [
    {
     "name": "stdout",
     "output_type": "stream",
     "text": [
      "1 2 3 4 5 6 7 8 9 10 11 12 13 14 15 16 17 18 19 20 21 22 23 24 25 26 27 28 29 30 31 32 33 34 35 36 37 38 39 40 41 42 43 44 45 46 47 48 49 50 51 52 53 54 55 56 57 58 59 60 61 62 63 64 65 66 67 68 69 70 71 72 73 74 75 76 77 78 79 80 81 82 83 84 85 86 87 88 89 90 91 92 93 94 95 96 97 98 99 100 "
     ]
    }
   ],
   "source": [
    "# 단계 1 : 1부터 100까지의 숫자를 출력\n",
    "for i in range(1, 101) :  # 1부터 101 미만의 숫자 # 반복할 내용은 : 사용\n",
    "    print(i, end=\" \") # print(i) 로 하면 아래로만 쭉 나열되어 출력되므로 end=\"공백\" 사용"
   ]
  },
  {
   "cell_type": "code",
   "execution_count": 52,
   "id": "6cf70f12",
   "metadata": {},
   "outputs": [
    {
     "name": "stdout",
     "output_type": "stream",
     "text": [
      "1 2 Fizz 4 5 Fizz 7 8 Fizz 10 11 Fizz 13 14 Fizz 16 17 Fizz 19 20 Fizz 22 23 Fizz 25 26 Fizz 28 29 Fizz 31 32 Fizz 34 35 Fizz 37 38 Fizz 40 41 Fizz 43 44 Fizz 46 47 Fizz 49 50 Fizz 52 53 Fizz 55 56 Fizz 58 59 Fizz 61 62 Fizz 64 65 Fizz 67 68 Fizz 70 71 Fizz 73 74 Fizz 76 77 Fizz 79 80 Fizz 82 83 Fizz 85 86 Fizz 88 89 Fizz 91 92 Fizz 94 95 Fizz 97 98 Fizz 100 "
     ]
    }
   ],
   "source": [
    "# 단계 2 : 1~100 까지 숫자를 출력\n",
    "# 3의 배수는 숫자대신 Fizz출력하기\n",
    "\n",
    "for i in range(1, 101) : #3의 배수이면 에 관한 조건문만들고\n",
    "    if i % 3 == 0 : \n",
    "            print(\"Fizz\", end=\" \")\n",
    "    else :  # 아니면 단계 1처럼 숫자출력\n",
    "            print(i, end=\" \")"
   ]
  },
  {
   "cell_type": "code",
   "execution_count": null,
   "id": "a755700e",
   "metadata": {},
   "outputs": [],
   "source": [
    "# 셀 자체 복사하기 esc + c 한다음에 밑에가서 esc + v"
   ]
  },
  {
   "cell_type": "code",
   "execution_count": 53,
   "id": "e2c0663a",
   "metadata": {},
   "outputs": [
    {
     "name": "stdout",
     "output_type": "stream",
     "text": [
      "1 2 Fizz 4 Buzz Fizz 7 8 Fizz Buzz 11 Fizz 13 14 Fizz 16 17 Fizz 19 Buzz Fizz 22 23 Fizz Buzz 26 Fizz 28 29 Fizz 31 32 Fizz 34 Buzz Fizz 37 38 Fizz Buzz 41 Fizz 43 44 Fizz 46 47 Fizz 49 Buzz Fizz 52 53 Fizz Buzz 56 Fizz 58 59 Fizz 61 62 Fizz 64 Buzz Fizz 67 68 Fizz Buzz 71 Fizz 73 74 Fizz 76 77 Fizz 79 Buzz Fizz 82 83 Fizz Buzz 86 Fizz 88 89 Fizz 91 92 Fizz 94 Buzz Fizz 97 98 Fizz Buzz "
     ]
    }
   ],
   "source": [
    "# 단계 3: 1~100 까지 숫자를 출력\n",
    "# 3의 배수는 숫자대신 Fizz출력하기\n",
    "# 5의 배수는 숫자대신 Buzz출력하기\n",
    "\n",
    "for i in range(1, 101) : \n",
    "    if i % 3 == 0  : #3의 배수이면- 에 관한 조건문만들고\n",
    "        print(\"Fizz\", end=\" \")\n",
    "    elif i % 5 == 0 : #5의 배수이면-\n",
    "        print(\"Buzz\", end=\" \")\n",
    "    else :  # 아니면 단계 1처럼 숫자출력\n",
    "        print(i, end=\" \")\n",
    "        \n",
    "# 3과 5의 공배수에는 이미 3의 공배수에 먼저 조건을 달아놓은게 출력되므로 Fizz가 출력"
   ]
  },
  {
   "cell_type": "code",
   "execution_count": 56,
   "id": "cca91f48",
   "metadata": {},
   "outputs": [
    {
     "name": "stdout",
     "output_type": "stream",
     "text": [
      "1 2 Fizz 4 Buzz Fizz 7 8 Fizz Buzz 11 Fizz 13 14 16 17 Fizz 19 Buzz Fizz 22 23 Fizz Buzz 26 Fizz 28 29 31 32 Fizz 34 Buzz Fizz 37 38 Fizz Buzz 41 Fizz 43 44 46 47 Fizz 49 Buzz Fizz 52 53 Fizz Buzz 56 Fizz 58 59 61 62 Fizz 64 Buzz Fizz 67 68 Fizz Buzz 71 Fizz 73 74 76 77 Fizz 79 Buzz Fizz 82 83 Fizz Buzz 86 Fizz 88 89 91 92 Fizz 94 Buzz Fizz 97 98 Fizz Buzz "
     ]
    }
   ],
   "source": [
    "# 단계 4: 1~100 까지 숫자를 출력\n",
    "# 3의 배수는 숫자대신 Fizz출력하기\n",
    "# 5의 배수는 숫자대신 Buzz출력하기\n",
    "\n",
    "# 3과 5의 공배수일 경우 FizzBuzz출력하기\n",
    "\n",
    "for i in range(1, 101) : \n",
    "    if i % 3== 0 and i % 5 == 0 :  # 3과 5의 공배수이면  # and사용 # ctrl+/ 누르면 주석처리\n",
    "        pass\n",
    "    elif i % 3 == 0 : #3의 배수이면- 에 관한 조건문만들고\n",
    "        print(\"Fizz\", end=\" \")\n",
    "    elif i % 5 == 0 : #5의 배수이면-\n",
    "        print(\"Buzz\", end=\" \")\n",
    "    else :  # 아니면 단계 1처럼 숫자출력\n",
    "        print(i, end=\" \")\n",
    "        \n",
    "# 3과 5의 공배수에는 이미 3의 공배수에 먼저 조건을 달아놓은게 출력되므로 Fizz가 출력"
   ]
  },
  {
   "cell_type": "code",
   "execution_count": 57,
   "id": "063713ee",
   "metadata": {},
   "outputs": [
    {
     "name": "stdout",
     "output_type": "stream",
     "text": [
      "1 2 Fizz 4 Buzz Fizz 7 8 Fizz Buzz 11 Fizz 13 14 16 17 Fizz 19 Buzz Fizz 22 23 Fizz Buzz 26 Fizz 28 29 31 32 Fizz 34 Buzz Fizz 37 38 Fizz Buzz 41 Fizz 43 44 46 47 Fizz 49 Buzz Fizz 52 53 Fizz Buzz 56 Fizz 58 59 61 62 Fizz 64 Buzz Fizz 67 68 Fizz Buzz 71 Fizz 73 74 76 77 Fizz 79 Buzz Fizz 82 83 Fizz Buzz 86 Fizz 88 89 91 92 Fizz 94 Buzz Fizz 97 98 Fizz Buzz "
     ]
    }
   ],
   "source": [
    "# 단계 4.5 : 수정하기 \n",
    "# 3과5의 공배수 = 15의 배수\n",
    "# 첫번째줄 간단하게 바꿔보자\n",
    "\n",
    "for i in range(1, 101) : \n",
    "    if i % 15 == 0 :  # 3과 5의 공배수이면  # and사용 # ctrl+/ 누르면 주석처리\n",
    "        pass   #칸을 좁히면 안됨... 그래서 pass 사용해서 공백을 만들어줌\n",
    "    elif i % 3 == 0 : #3의 배수이면- 에 관한 조건문만들고\n",
    "        print(\"Fizz\", end=\" \")\n",
    "    elif i % 5 == 0 : #5의 배수이면-\n",
    "        print(\"Buzz\", end=\" \")\n",
    "    else :  # 아니면 단계 1처럼 숫자출력\n",
    "        print(i, end=\" \")\n",
    "# 3과 5의 공배수에는 이미 3의 공배수에 먼저 조건을 달아놓은게 출력되므로 Fizz가 출력"
   ]
  },
  {
   "cell_type": "code",
   "execution_count": 28,
   "id": "0f197347",
   "metadata": {},
   "outputs": [
    {
     "name": "stdout",
     "output_type": "stream",
     "text": [
      "FizzFizzFizzFizz\n"
     ]
    }
   ],
   "source": [
    "print('Fizz' * 4) "
   ]
  },
  {
   "cell_type": "code",
   "execution_count": 63,
   "id": "fe299e86",
   "metadata": {},
   "outputs": [
    {
     "name": "stdout",
     "output_type": "stream",
     "text": [
      "1 2 Fizz 4 Buzz Fizz 7 8 Fizz Buzz 11 Fizz 13 14 FizzBuzz 16 17 Fizz 19 Buzz Fizz 22 23 Fizz Buzz 26 Fizz 28 29 FizzBuzz 31 32 Fizz 34 Buzz Fizz 37 38 Fizz Buzz 41 Fizz 43 44 FizzBuzz 46 47 Fizz 49 Buzz Fizz 52 53 Fizz Buzz 56 Fizz 58 59 FizzBuzz 61 62 Fizz 64 Buzz Fizz 67 68 Fizz Buzz 71 Fizz 73 74 FizzBuzz 76 77 Fizz 79 Buzz Fizz 82 83 Fizz Buzz 86 Fizz 88 89 FizzBuzz 91 92 Fizz 94 Buzz Fizz 97 98 Fizz Buzz "
     ]
    }
   ],
   "source": [
    "# 다른접근 : 1부터 100까지의 숫자를 출력\n",
    "#            3의 배수는 숫자대신 Fizz\n",
    "#            5의 배수는 숫자대신 Buzz\n",
    "#            3과 5의 공배수는 숫자대신 FizzBuzz 를 출력\n",
    "for i in range(1, 101) :\n",
    "    print('Fizz' * (i % 3 == 0) + 'Buzz' * (i % 5 == 0) or i, end=\" \")  \n",
    "\n",
    "#'Fizz' * (i % 3 == 0) 를 출력하거나 아니면 i 출력 \n",
    "# +는 문자열끼리의 합체 \n",
    "# or :또는\n",
    "# 3의 배수도 되고 5의 배수도 될때 Fizz한번 찍히고 Buzz도 찍혀 나옴\n",
    "# if구문 사용하지 않고도 결과를 만들어 낼 수 있음\n",
    "# end로 옆줄로 정렬하고"
   ]
  },
  {
   "cell_type": "code",
   "execution_count": 64,
   "id": "4bfd838f",
   "metadata": {},
   "outputs": [],
   "source": [
    "#github.com/Hammmme\n",
    "#github desktop 설치\n",
    "#로컬의 폴더를 github에 repository로 등록"
   ]
  },
  {
   "cell_type": "markdown",
   "id": "1be83283",
   "metadata": {},
   "source": [
    "# Unit 21. 터틀 그래픽스로 그림그리기"
   ]
  },
  {
   "cell_type": "code",
   "execution_count": 4,
   "id": "0db6a353",
   "metadata": {},
   "outputs": [],
   "source": [
    "import turtle as t\n",
    "# turtle module을 t라는 약칭(별칭)으로 import한다.\n",
    "t.shape('turtle') \n",
    "# shift + enter 누르면 Python Turtle Grafics라는 창이 하나 뜸 (jupytor에서는 좀 잘 안움직...)\n",
    "t.forward(100) # 실행하고 나면 거북이 위치가 바뀜... 앞으로 100만큼\n",
    "t.left(90) # 왼쪽으로 90도 꺾음 (실행 후 거북이 머리위치가 바뀌어져있을거임) 60으로 바꾸면 삼각형이 됨...\n",
    "t.forward(100) \n",
    "t.left(90)\n",
    "t.forward(100) \n",
    "t.left(90)\n",
    "t.forward(100) # shift + enter 사각형 완성"
   ]
  },
  {
   "cell_type": "code",
   "execution_count": 1,
   "id": "ea9ab7f5",
   "metadata": {},
   "outputs": [],
   "source": [
    "# 8각형 그리기 range 안의 숫자에 따라 다각형,,\n",
    "import turtle as t\n",
    "t.shape('turtle')\n",
    "for i in range(8):\n",
    "    t.forward(30)\n",
    "    t.right(360/8)"
   ]
  },
  {
   "cell_type": "code",
   "execution_count": 10,
   "id": "10e900b4",
   "metadata": {},
   "outputs": [],
   "source": [
    "# 도형 그리고 채우기..\n",
    "import turtle as t\n",
    "t.shape('turtle')\n",
    "t.color('red')\n",
    "t.begin_fill()\n",
    "for i in range(8):    \n",
    "    t.forward(15)\n",
    "    t.right(360/8)\n",
    "t.end_fill()    "
   ]
  },
  {
   "cell_type": "code",
   "execution_count": 7,
   "id": "fc199419",
   "metadata": {},
   "outputs": [],
   "source": [
    "import turtle as t\n",
    "n = 60\n",
    "t.shape('turtle')\n",
    "t.speed('fastest')\n",
    "for i in range(n):\n",
    "    t.circle(60)\n",
    "    t.right(360/n)"
   ]
  },
  {
   "cell_type": "code",
   "execution_count": null,
   "id": "c3d64c22",
   "metadata": {},
   "outputs": [],
   "source": [
    "# unit 22는 책으로 설명 (이전거랑 겹치는 것도 있음)\n",
    "# 다음시간까지 unit 23,24,25,26 예습하고....."
   ]
  }
 ],
 "metadata": {
  "kernelspec": {
   "display_name": "Python 3",
   "language": "python",
   "name": "python3"
  },
  "language_info": {
   "codemirror_mode": {
    "name": "ipython",
    "version": 3
   },
   "file_extension": ".py",
   "mimetype": "text/x-python",
   "name": "python",
   "nbconvert_exporter": "python",
   "pygments_lexer": "ipython3",
   "version": "3.8.8"
  }
 },
 "nbformat": 4,
 "nbformat_minor": 5
}
